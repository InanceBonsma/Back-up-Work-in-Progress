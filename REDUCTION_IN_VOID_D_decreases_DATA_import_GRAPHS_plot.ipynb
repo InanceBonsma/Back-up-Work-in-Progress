{
 "cells": [
  {
   "cell_type": "markdown",
   "metadata": {},
   "source": [
    "# 3D Geometric Model of Inflated Dunnage Bag - Reduction in Void"
   ]
  },
  {
   "cell_type": "markdown",
   "metadata": {},
   "source": [
    "## Assumptions:"
   ]
  },
  {
   "cell_type": "markdown",
   "metadata": {},
   "source": [
    "1. Material is rigid\n",
    "2. Idealized geometry\n",
    "3. Not rate dependent\n",
    "4. Mass is constant\n",
    "5. Temperature has no effect on the material or the inflated air"
   ]
  },
  {
   "cell_type": "markdown",
   "metadata": {
    "collapsed": true
   },
   "source": [
    "## Import Libraries:"
   ]
  },
  {
   "cell_type": "code",
   "execution_count": 1,
   "metadata": {
    "collapsed": false
   },
   "outputs": [],
   "source": [
    "import os\n",
    "import pandas as pd\n",
    "import matplotlib.pyplot as plt, numpy as np\n",
    "from scipy.interpolate import spline\n",
    "from math import pi #import pi function for simple reference"
   ]
  },
  {
   "cell_type": "markdown",
   "metadata": {},
   "source": [
    "## Functions:"
   ]
  },
  {
   "cell_type": "code",
   "execution_count": 2,
   "metadata": {
    "collapsed": true
   },
   "outputs": [],
   "source": [
    "#Find volume from length, width and diameter\n",
    "def updateVolume(width,length,diameter):\n",
    "    LengthLong = width - float(pi*diameter)/2 \n",
    "    AreaLong = diameter*LengthLong + float(pi*diameter**2)/4\n",
    "    LengthShort = length - float(pi*diameter)/2\n",
    "    AreaShort = diameter*LengthShort + float(pi*diameter**2)/4\n",
    "    VolumeSphere = float(1/6)*(diameter**3)*(pi)\n",
    "    return (AreaLong*LengthShort) + (AreaShort*LengthLong) + VolumeSphere"
   ]
  },
  {
   "cell_type": "code",
   "execution_count": 3,
   "metadata": {
    "collapsed": true
   },
   "outputs": [],
   "source": [
    "#Update the Pressure using Ideal Gas Law\n",
    "def updatePressure(mass,volume):\n",
    "    return mass*8.3144598*298.15/volume"
   ]
  },
  {
   "cell_type": "code",
   "execution_count": 4,
   "metadata": {
    "collapsed": true
   },
   "outputs": [],
   "source": [
    "#Get the mass using the Ideal Gas Law (ABSOLUTE PRESSURE)\n",
    "def updateMass(pressure,volume):\n",
    "    return((101500-pressure) *volume)/(8.3144598*298.15)"
   ]
  },
  {
   "cell_type": "code",
   "execution_count": 5,
   "metadata": {
    "collapsed": false
   },
   "outputs": [],
   "source": [
    "#Get stess from Barlow's formula\n",
    "def updateStress(diameter,pressure): \n",
    "    return (diameter*(pressure))/(2*1)"
   ]
  },
  {
   "cell_type": "code",
   "execution_count": 6,
   "metadata": {
    "collapsed": true
   },
   "outputs": [],
   "source": [
    "#Find the new length using the strain calculated\n",
    "def updateLength(length,strain):\n",
    "    ChangeInLength = length*strain \n",
    "    return length+ChangeInLength"
   ]
  },
  {
   "cell_type": "code",
   "execution_count": 7,
   "metadata": {
    "collapsed": false
   },
   "outputs": [],
   "source": [
    "#Get strain from stress-strain curve\n",
    "def getStrain(stress,strain,stress_barlow):\n",
    "    index = np.array(stress).searchsorted(stress_barlow)#find index from barlow's stress value\n",
    "    x2 = strain[index-1] #find strain value to left\n",
    "    x1 = strain[index] #find strain value to right\n",
    "    y2 = stress[index-1] #find stress value to left\n",
    "    y1 = stress[index] #find stress value to right\n",
    "    return x1 + (stress_barlow-y1)*(x2 - x1)/(y2 - y1)"
   ]
  },
  {
   "cell_type": "code",
   "execution_count": 8,
   "metadata": {
    "collapsed": true
   },
   "outputs": [],
   "source": [
    "#Get new void size (new diameter), using Barlow Formula (RELATIV PRESSURE)\n",
    "def updateDiameter(stress,pressure): \n",
    "    return 2*stress*1/(pressure)    "
   ]
  },
  {
   "cell_type": "code",
   "execution_count": 9,
   "metadata": {
    "collapsed": true
   },
   "outputs": [],
   "source": [
    "def addDiameter(d_red,d_change):\n",
    "    return d_red - d_change"
   ]
  },
  {
   "cell_type": "markdown",
   "metadata": {},
   "source": [
    "## Import Data for Stress-Strain:"
   ]
  },
  {
   "cell_type": "code",
   "execution_count": 10,
   "metadata": {
    "collapsed": false
   },
   "outputs": [],
   "source": [
    "#for root,dirs,files in os.walk('C:\\Users\\Inance\\Documents\\Thesis\\Experiments\\Tensile_Tests\\Trial_Round\\Tensile_test_mts\\Inance_pp_mts\\8_5_2016_300mm_min_GREEN\\WAR'):\n",
    "   # for file in files:\n",
    "tensile=pd.read_csv(r'C:\\Users\\Inance\\Documents\\Thesis\\Experiments\\Tensile_Tests\\Trial_Round\\Tensile_test_mts\\Inance_pp_mts\\8_5_2016_300mm_min_GREEN\\WARP\\specimen1.1.txt',header=None,names=['Time','Load','Extension','Strain','Crosshead','Extensometer'])\n",
    "load=np.array(tensile.Load)\n",
    "crosshead=np.array(tensile.Crosshead)\n",
    "sig=load*70*0.4*10**3\n",
    "eps=((90-crosshead)/90)*10**-3\n",
    "#print(sig,eps)"
   ]
  },
  {
   "cell_type": "markdown",
   "metadata": {},
   "source": [
    "## Input Parameters - Main A:"
   ]
  },
  {
   "cell_type": "code",
   "execution_count": 11,
   "metadata": {
    "collapsed": false
   },
   "outputs": [
    {
     "name": "stdout",
     "output_type": "stream",
     "text": [
      "\n",
      " P = [20000] \n",
      " V = [1] \n",
      " m = [32.87674076269672] \n",
      " sig_b = [5000.0]\n"
     ]
    }
   ],
   "source": [
    "#Constants:\n",
    "w=0.9\n",
    "d=0.5\n",
    "l=[1.5] #initial length\n",
    "\n",
    "#Initial values:\n",
    "\n",
    "P=[20000]  #initial GAUGE pressure\n",
    "V=[1]\n",
    "m=[updateMass(P[0],V[0])] #initial mass from Ideal Gas Law\n",
    "sig_b = [updateStress(d,P[0])] #initial stress form Barlows\n",
    "epsa = [0.0]\n",
    "\n",
    "#print ('sig =',sig,'\\n','eps =',eps,)\n",
    "print ('\\n','P =',P,'\\n','V =',V,'\\n','m =',m,'\\n','sig_b =',sig_b)\n",
    "\n",
    "# Main A - loop parameters:\n",
    "max_iter = 200 #maximum number of iterations\n",
    "m_tol = 0.0005 #mass tolerance\n",
    "i = 0 #starting number of iteration\n",
    "m_diff = 10.0 #\n",
    "m_old = 100 #old mass "
   ]
  },
  {
   "cell_type": "markdown",
   "metadata": {},
   "source": [
    "## Main A - Just Inflated:"
   ]
  },
  {
   "cell_type": "code",
   "execution_count": 12,
   "metadata": {
    "collapsed": false,
    "scrolled": true
   },
   "outputs": [
    {
     "name": "stdout",
     "output_type": "stream",
     "text": [
      "P \t epsa \t\t\t l \t\t V \t\t\t m\n",
      "20000 \t 0.000856575618183 \t 1.50128486343 \t 0.310557820421 \t 10.2101289538\n",
      "20000 \t 0.000856575618183 \t 1.50128486343 \t 0.310557820421 \t 10.2101289538\n"
     ]
    }
   ],
   "source": [
    "print('P','\\t','epsa','\\t\\t\\t','l','\\t\\t','V','\\t\\t\\t','m')#print variables names\n",
    "\n",
    "while (m_diff >= m_tol and i < max_iter):\n",
    "    P.append(P[0]) #update Pressure\n",
    "    \n",
    "    sig_b.append(updateStress(d,P[i+1])) #get Stress using Barlow's formula, GAUGE PRESSURE\n",
    "    \n",
    "    epsa.append(getStrain(sig,eps,sig_b[i+1])) #call Strain function\n",
    "    \n",
    "    l.append(updateLength(l[0],epsa[i+1]))#get updated length\n",
    "    \n",
    "    V.append(updateVolume(w,l[i+1],d)) #get Volume\n",
    "    \n",
    "    m.append(updateMass(P[i+1],V[i+1])) #initial mass from Ideal Gas Law, ABSOLUTE PRESSURE\n",
    "    \n",
    "    #Loop constraints\n",
    "    m_diff = np.abs(m[i+1] - m_old) #calculate abs difference between old m and new m\n",
    "    m_old = m[i+1] #set the old m equal to the current m for the next loop\n",
    "    \n",
    "    #print('m_diff =',m_diff)\n",
    "\n",
    "    print (P[i+1],'\\t',epsa[i+1],'\\t',l[i+1],'\\t',V[i+1],'\\t',m[i+1])\n",
    "    i+=1 #increment i to loop"
   ]
  },
  {
   "cell_type": "markdown",
   "metadata": {},
   "source": [
    "## Input Parameters - Main B:"
   ]
  },
  {
   "cell_type": "code",
   "execution_count": 13,
   "metadata": {
    "collapsed": true
   },
   "outputs": [],
   "source": [
    "#Input parameters for Main B:\n",
    "d_red=[0.3] #diameter with reduction main\n",
    "m_red = [m[2]] #end mass of Main A, starting mass for Main B\n",
    "V_red = [V[2]] #end volume of Main A, starting volume for Main B\n",
    "P_red = [P[2]] #end pressure of Main A, starting pressure for Main B\n",
    "sig_b_red = [sig_b[2]] #end barlow stress of Main A, starting barlow stress for Main B\n",
    "epsa_red = [epsa[2]] #end strain of Main A, starting strain for Main B\n",
    "l_red = [l[2]] #end length of Main A, starting length for Main B\n",
    "d_change = [0.01] #change in diameter\n",
    "\n",
    "#Loop parameters:\n",
    "max_iter = 27\n",
    "k = 0 #number of iterations\n",
    "l_tol = 0.0005\n",
    "l_diff = 10.0\n",
    "l_old = 100"
   ]
  },
  {
   "cell_type": "markdown",
   "metadata": {},
   "source": [
    "## Main B - Reduction in Void:"
   ]
  },
  {
   "cell_type": "code",
   "execution_count": 14,
   "metadata": {
    "collapsed": false
   },
   "outputs": [
    {
     "name": "stdout",
     "output_type": "stream",
     "text": [
      "d_red \t P_red \t\t\t epsa_red \t\t V_red \t\t sig_b_red\n",
      "0.3 \t 66216.0928092 \t 0.00080065568903 \t 0.382240348086 \t 9932.41392139\n",
      "0.3 \t 66147.8768518 \t 0.000800784215871 \t 0.382634538989 \t 9922.18152778\n",
      "0.3 \t 66147.8659126 \t 0.000800784236482 \t 0.382634602267 \t 9922.17988689\n",
      "0.3 \t 66147.8659109 \t 0.000800784236485 \t 0.382634602277 \t 9922.17988663\n",
      "0.3 \t 66147.8659109 \t 0.000800784236485 \t 0.382634602277 \t 9922.17988663\n",
      "0.3 \t 66147.8659109 \t 0.000800784236485 \t 0.382634602277 \t 9922.17988663\n",
      "0.3 \t 66147.8659109 \t 0.000800784236485 \t 0.382634602277 \t 9922.17988663\n",
      "0.3 \t 66147.8659109 \t 0.000800784236485 \t 0.382634602277 \t 9922.17988663\n",
      "0.3 \t 66147.8659109 \t 0.000800784236485 \t 0.382634602277 \t 9922.17988663\n",
      "0.3 \t 66147.8659109 \t 0.000800784236485 \t 0.382634602277 \t 9922.17988663\n",
      "0.3 \t 66147.8659109 \t 0.000800784236485 \t 0.382634602277 \t 9922.17988663\n",
      "0.3 \t 66147.8659109 \t 0.000800784236485 \t 0.382634602277 \t 9922.17988663\n",
      "0.3 \t 66147.8659109 \t 0.000800784236485 \t 0.382634602277 \t 9922.17988663\n",
      "0.3 \t 66147.8659109 \t 0.000800784236485 \t 0.382634602277 \t 9922.17988663\n",
      "0.3 \t 66147.8659109 \t 0.000800784236485 \t 0.382634602277 \t 9922.17988663\n",
      "0.3 \t 66147.8659109 \t 0.000800784236485 \t 0.382634602277 \t 9922.17988663\n",
      "0.3 \t 66147.8659109 \t 0.000800784236485 \t 0.382634602277 \t 9922.17988663\n",
      "0.3 \t 66147.8659109 \t 0.000800784236485 \t 0.382634602277 \t 9922.17988663\n",
      "0.3 \t 66147.8659109 \t 0.000800784236485 \t 0.382634602277 \t 9922.17988663\n",
      "0.3 \t 66147.8659109 \t 0.000800784236485 \t 0.382634602277 \t 9922.17988663\n",
      "0.3 \t 66147.8659109 \t 0.000800784236485 \t 0.382634602277 \t 9922.17988663\n",
      "0.3 \t 66147.8659109 \t 0.000800784236485 \t 0.382634602277 \t 9922.17988663\n",
      "0.3 \t 66147.8659109 \t 0.000800784236485 \t 0.382634602277 \t 9922.17988663\n",
      "0.3 \t 66147.8659109 \t 0.000800784236485 \t 0.382634602277 \t 9922.17988663\n",
      "0.3 \t 66147.8659109 \t 0.000800784236485 \t 0.382634602277 \t 9922.17988663\n",
      "0.3 \t 66147.8659109 \t 0.000800784236485 \t 0.382634602277 \t 9922.17988663\n",
      "0.3 \t 66147.8659109 \t 0.000800784236485 \t 0.382634602277 \t 9922.17988663\n"
     ]
    }
   ],
   "source": [
    "print('d_red','\\t','P_red','\\t\\t\\t','epsa_red','\\t\\t','V_red','\\t\\t','sig_b_red')\n",
    "\n",
    "while l_diff >= l_tol and k < max_iter:\n",
    "    \n",
    "    V_red.append(updateVolume(w,l_red[k],d_red[0])) #get Volume\n",
    "    \n",
    "    P_red.append(updatePressure(m_red[0],V_red[k+1]))\n",
    "    \n",
    "    sig_b_red.append(updateStress(d_red[0],P_red[k+1]))\n",
    "    \n",
    "    epsa_red.append(getStrain(sig,eps,sig_b_red[k+1]))\n",
    "    \n",
    "    l_red.append(updateLength(l_red[0],epsa_red[k+1]))#get updated length\n",
    "    \n",
    "    #Loop constraints\n",
    "    #l_diff = np.abs(l_red[k+1] - l_old) #calculate abs difference between old V and new V\n",
    "    #l_old = l_red[k+1] #set the old V equal to the current V for the next loop\n",
    "    print(d_red[0],'\\t',P_red[k+1],'\\t',epsa_red[k+1],'\\t',V_red[k+1],'\\t',sig_b_red[k+1])\n",
    "    k+=1 #increment k to loop "
   ]
  },
  {
   "cell_type": "markdown",
   "metadata": {},
   "source": [
    "## MAIN - Time loop:"
   ]
  },
  {
   "cell_type": "code",
   "execution_count": 15,
   "metadata": {
    "collapsed": false
   },
   "outputs": [],
   "source": [
    "#for t in time:\n",
    "    "
   ]
  },
  {
   "cell_type": "markdown",
   "metadata": {
    "collapsed": true
   },
   "source": [
    "## Input Graphs:"
   ]
  },
  {
   "cell_type": "markdown",
   "metadata": {},
   "source": [
    "### Stress vs Strain"
   ]
  },
  {
   "cell_type": "code",
   "execution_count": 16,
   "metadata": {
    "collapsed": false
   },
   "outputs": [
    {
     "data": {
      "image/png": "[encoded data removed]",
      "text/plain": [
       "<matplotlib.figure.Figure at 0x1f8a9de9c50>"
      ]
     },
     "metadata": {},
     "output_type": "display_data"
    },
    {
     "data": {
      "text/plain": [
       "<function matplotlib.pyplot.close>"
      ]
     },
     "execution_count": 16,
     "metadata": {},
     "output_type": "execute_result"
    }
   ],
   "source": [
    "#Stress vs Strain - Data generated by Tensile Test\n",
    "\n",
    "axis_font = {'fontname':'Constantia', 'size':'14'}\n",
    "stress_strain=plt.show(plt.plot(eps,sig))\n",
    "plt.ylabel(\"Stress\",**axis_font),plt.xlabel(\"Strain\",**axis_font)\n",
    "plt.close"
   ]
  },
  {
   "cell_type": "markdown",
   "metadata": {},
   "source": [
    "### Pressure vs Barlow's Stress"
   ]
  },
  {
   "cell_type": "code",
   "execution_count": 17,
   "metadata": {
    "collapsed": false
   },
   "outputs": [
    {
     "data": {
      "image/png": "[encoded data removed]",
      "text/plain": [
       "<matplotlib.figure.Figure at 0x1f8a9de9c18>"
      ]
     },
     "metadata": {},
     "output_type": "display_data"
    },
    {
     "data": {
      "text/plain": [
       "<function matplotlib.pyplot.close>"
      ]
     },
     "execution_count": 17,
     "metadata": {},
     "output_type": "execute_result"
    }
   ],
   "source": [
    "axis_font = {'fontname':'Constantia', 'size':'14'}\n",
    "pressure_barlow=plt.show(plt.plot(sig_b_red,P_red))\n",
    "plt.xlabel(\"Barlow's stress\",**axis_font),plt.ylabel(\"Pressure\",**axis_font)\n",
    "plt.close"
   ]
  },
  {
   "cell_type": "markdown",
   "metadata": {},
   "source": [
    "## Iteration Graphs:"
   ]
  },
  {
   "cell_type": "markdown",
   "metadata": {},
   "source": [
    "### Pressure vs Iteration number"
   ]
  },
  {
   "cell_type": "code",
   "execution_count": 18,
   "metadata": {
    "collapsed": false
   },
   "outputs": [
    {
     "data": {
      "image/png": "[encoded data removed]",
      "text/plain": [
       "<matplotlib.figure.Figure at 0x1f8ab6b5438>"
      ]
     },
     "metadata": {},
     "output_type": "display_data"
    },
    {
     "data": {
      "text/plain": [
       "<function matplotlib.pyplot.close>"
      ]
     },
     "execution_count": 18,
     "metadata": {},
     "output_type": "execute_result"
    }
   ],
   "source": [
    "#Pressure vs Iteration number \n",
    "axis_font = {'fontname':'Constantia', 'size':'14'}\n",
    "plt.show(plt.plot(range(len(P_red)),P_red))\n",
    "plt.ylabel(\"Pressure\",**axis_font),plt.xlabel(\"Iteration number\",**axis_font)\n",
    "plt.close"
   ]
  },
  {
   "cell_type": "markdown",
   "metadata": {},
   "source": [
    "### Diameter vs Iteration number"
   ]
  },
  {
   "cell_type": "code",
   "execution_count": 20,
   "metadata": {
    "collapsed": false
   },
   "outputs": [
    {
     "data": {
      "image/png": "[encoded data removed]",
      "text/plain": [
       "<matplotlib.figure.Figure at 0x1f8ab6aaf98>"
      ]
     },
     "metadata": {},
     "output_type": "display_data"
    },
    {
     "data": {
      "text/plain": [
       "<function matplotlib.pyplot.close>"
      ]
     },
     "execution_count": 20,
     "metadata": {},
     "output_type": "execute_result"
    }
   ],
   "source": [
    "#Diameter vs Iteration number \n",
    "axis_font = {'fontname':'Constantia', 'size':'14'}\n",
    "plt.show(plt.plot(range(len(d_red)),d_red))\n",
    "plt.ylabel(\"Diameter\",**axis_font),plt.xlabel(\"Iteration number\",**axis_font)\n",
    "plt.close"
   ]
  },
  {
   "cell_type": "markdown",
   "metadata": {},
   "source": [
    "### Strain vs Iteration number"
   ]
  },
  {
   "cell_type": "code",
   "execution_count": 21,
   "metadata": {
    "collapsed": false
   },
   "outputs": [
    {
     "data": {
      "image/png": "[encoded data removed]",
      "text/plain": [
       "<matplotlib.figure.Figure at 0x1f8ab1b5eb8>"
      ]
     },
     "metadata": {},
     "output_type": "display_data"
    },
    {
     "data": {
      "text/plain": [
       "<function matplotlib.pyplot.close>"
      ]
     },
     "execution_count": 21,
     "metadata": {},
     "output_type": "execute_result"
    }
   ],
   "source": [
    "#Strain vs Iteration number \n",
    "axis_font = {'fontname':'Constantia', 'size':'14'}\n",
    "plt.show(plt.plot(range(len(epsa_red)),epsa_red))\n",
    "plt.ylabel(\"Calculated Strain\",**axis_font),plt.xlabel(\"Iteration number\",**axis_font)\n",
    "plt.close"
   ]
  },
  {
   "cell_type": "markdown",
   "metadata": {},
   "source": [
    "### Volume vs Iteration number"
   ]
  },
  {
   "cell_type": "code",
   "execution_count": 22,
   "metadata": {
    "collapsed": false
   },
   "outputs": [
    {
     "data": {
      "image/png": "[encoded data removed]",
      "text/plain": [
       "<matplotlib.figure.Figure at 0x221b24ba1d0>"
      ]
     },
     "metadata": {},
     "output_type": "display_data"
    },
    {
     "data": {
      "text/plain": [
       "<function matplotlib.pyplot.close>"
      ]
     },
     "execution_count": 22,
     "metadata": {},
     "output_type": "execute_result"
    }
   ],
   "source": [
    "#Volume vs Iteration number \n",
    "axis_font = {'fontname':'Constantia', 'size':'14'}\n",
    "plt.show(plt.plot(range(len(V_red)),V_red))\n",
    "plt.ylabel(\"Volume\",**axis_font),plt.xlabel(\"Iteration number\",**axis_font)\n",
    "plt.close"
   ]
  },
  {
   "cell_type": "markdown",
   "metadata": {},
   "source": [
    "### Barlow's Stress vs Iteration number"
   ]
  },
  {
   "cell_type": "code",
   "execution_count": 23,
   "metadata": {
    "collapsed": false
   },
   "outputs": [
    {
     "data": {
      "image/png": "[encoded data removed]",
      "text/plain": [
       "<matplotlib.figure.Figure at 0x221b25d77f0>"
      ]
     },
     "metadata": {},
     "output_type": "display_data"
    },
    {
     "data": {
      "text/plain": [
       "<function matplotlib.pyplot.close>"
      ]
     },
     "execution_count": 23,
     "metadata": {},
     "output_type": "execute_result"
    }
   ],
   "source": [
    "#Barlow's Stress vs Iteration number \n",
    "axis_font = {'fontname':'Constantia', 'size':'14'}\n",
    "plt.show(plt.plot(range(len(sig_b_red)),sig_b_red))\n",
    "plt.ylabel(\"Barlow's Stress\",**axis_font),plt.xlabel(\"Iteration number\",**axis_font)\n",
    "plt.close"
   ]
  },
  {
   "cell_type": "code",
   "execution_count": null,
   "metadata": {
    "collapsed": true
   },
   "outputs": [],
   "source": []
  }
 ],
 "metadata": {
  "anaconda-cloud": {},
  "kernelspec": {
   "display_name": "Python [conda root]",
   "language": "python",
   "name": "conda-root-py"
  },
  "language_info": {
   "codemirror_mode": {
    "name": "ipython",
    "version": 3
   },
   "file_extension": ".py",
   "mimetype": "text/x-python",
   "name": "python",
   "nbconvert_exporter": "python",
   "pygments_lexer": "ipython3",
   "version": "3.5.2"
  }
 },
 "nbformat": 4,
 "nbformat_minor": 1
}
