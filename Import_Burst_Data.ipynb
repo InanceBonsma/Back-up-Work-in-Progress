{
 "cells": [
  {
   "cell_type": "code",
   "execution_count": 13,
   "metadata": {
    "collapsed": false
   },
   "outputs": [
    {
     "name": "stdout",
     "output_type": "stream",
     "text": [
      "time =  [  0.00000000e+00   2.00000000e-02   4.00000000e-02 ...,   1.26640010e+02\n",
      "   1.26660010e+02   1.26680010e+02] \\n\n",
      " void =  [ 255.24532  255.24532  255.24532 ...,  124.95628  124.95628  124.95628] \n",
      "\n",
      "\n",
      " pressure =  [ 0.0003  0.0006  0.0009 ...,  0.0003  0.0003  0.0006]\n"
     ]
    }
   ],
   "source": [
    "import numpy as np\n",
    "import pandas as pd\n",
    "import matplotlib.pyplot as plt\n",
    "file=open('C://Users//Inance//Documents//Thesis//Burst_Testing_Data_Analysis//Day_1_Testing//Burst//Sample_12_burst.asc')\n",
    "lst = [] \n",
    "for line in file:\n",
    "    lst.append([ float(x) for x in line.split()])\n",
    "time = np.array([ x[0] for x in lst])\n",
    "void = np.array([ x[1] for x in lst])\n",
    "pressure0 =np.array([ x[2] for x in lst])\n",
    "pressure=pressure0*-1\n",
    "print('time = ',time,'\\\\n\\n','void = ',void,'\\n\\n\\n','pressure = ',pressure)"
   ]
  },
  {
   "cell_type": "code",
   "execution_count": 14,
   "metadata": {
    "collapsed": false
   },
   "outputs": [
    {
     "data": {
      "image/png": "[encoded data removed]",
      "text/plain": [
       "<matplotlib.figure.Figure at 0x192aca86d30>"
      ]
     },
     "metadata": {},
     "output_type": "display_data"
    },
    {
     "data": {
      "text/plain": [
       "<function matplotlib.pyplot.close>"
      ]
     },
     "execution_count": 14,
     "metadata": {},
     "output_type": "execute_result"
    }
   ],
   "source": [
    "axis_font = {'fontname':'Constantia', 'size':'14'}\n",
    "pressure_time=plt.show(plt.plot(pressure, void))\n",
    "plt.ylabel(\"Pressure\",**axis_font),plt.xlabel(\"Time\",**axis_font)\n",
    "plt.close"
   ]
  },
  {
   "cell_type": "code",
   "execution_count": null,
   "metadata": {
    "collapsed": true
   },
   "outputs": [],
   "source": []
  }
 ],
 "metadata": {
  "kernelspec": {
   "display_name": "Python [default]",
   "language": "python",
   "name": "python3"
  },
  "language_info": {
   "codemirror_mode": {
    "name": "ipython",
    "version": 3
   },
   "file_extension": ".py",
   "mimetype": "text/x-python",
   "name": "python",
   "nbconvert_exporter": "python",
   "pygments_lexer": "ipython3",
   "version": "3.5.2"
  }
 },
 "nbformat": 4,
 "nbformat_minor": 1
}
