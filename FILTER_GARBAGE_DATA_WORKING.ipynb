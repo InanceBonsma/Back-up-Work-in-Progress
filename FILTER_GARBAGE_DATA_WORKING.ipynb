{
 "cells": [
  {
   "cell_type": "markdown",
   "metadata": {},
   "source": [
    "# IMPORT, FILTER DATA & PLOT"
   ]
  },
  {
   "cell_type": "markdown",
   "metadata": {},
   "source": [
    "## Import Libraries"
   ]
  },
  {
   "cell_type": "code",
   "execution_count": 1,
   "metadata": {
    "collapsed": true
   },
   "outputs": [],
   "source": [
    "import pandas as pd\n",
    "import matplotlib.pyplot as plt, numpy as np\n",
    "from scipy.interpolate import spline"
   ]
  },
  {
   "cell_type": "markdown",
   "metadata": {},
   "source": [
    "## Import File"
   ]
  },
  {
   "cell_type": "code",
   "execution_count": 2,
   "metadata": {
    "collapsed": false
   },
   "outputs": [],
   "source": [
    "file=open('C:/Users/Inance/Documents/Thesis/BURST/Burst_Testing_Data_Analysis/Day_1_Testing/Burst/Changed_TXT/Sample_15_burst_TXT.txt')\n",
    "lst = [] \n",
    "for line in file:\n",
    "    lst.append([ float(x) for x in line.split()])\n",
    "t = np.array([ x[0] for x in lst]) #first row in file and make array\n",
    "v = np.array([ x[1] for x in lst]) #second row in file and make array\n",
    "pressure =(np.array([ x[2] for x in lst]))*-1 #etc. & change the sign of the imported pressure data"
   ]
  },
  {
   "cell_type": "markdown",
   "metadata": {},
   "source": [
    "## Filter Pressure Values"
   ]
  },
  {
   "cell_type": "code",
   "execution_count": 3,
   "metadata": {
    "collapsed": false
   },
   "outputs": [
    {
     "name": "stdout",
     "output_type": "stream",
     "text": [
      "Number of data points in filtered_pressure - counter: 5149\n"
     ]
    }
   ],
   "source": [
    "data_points=int((t[0]-t[-1])/-0.02) #determine nr of data points per column of the imported file\n",
    "filtered_pressure = [] #create an empty list for the filtered pressure\n",
    "counter = 0 #initiate a counter\n",
    "\n",
    "for i in range(data_points): \n",
    "    if pressure[i]<8: #filter out all garbage pressure data points above 8 bar\n",
    "        filtered_pressure.append(pressure[i]) #append the empty list ofsave all the new pressure values in new_pressure\n",
    "        counter += 1\n",
    "print(\"Number of data points in filtered_pressure - counter:\",counter)"
   ]
  },
  {
   "cell_type": "markdown",
   "metadata": {},
   "source": [
    "## Create Time Values"
   ]
  },
  {
   "cell_type": "code",
   "execution_count": 4,
   "metadata": {
    "collapsed": false
   },
   "outputs": [
    {
     "name": "stdout",
     "output_type": "stream",
     "text": [
      "Number of data points in time - tcounter: 5148\n"
     ]
    }
   ],
   "source": [
    "time =[0,0.02] #these initial values are needed for the for-loop\n",
    "tcounter = 0\n",
    "\n",
    "for i in range(counter-1):\n",
    "    time[0]=0\n",
    "    time[i+1]=time[i]+0.02 #add 0.02 to the previous value\n",
    "    time.append(time) #append the time list\n",
    "    tcounter += 1 #increment the counter\n",
    "del time[-1] #somehow a list of the entire time is formed at the end that should be removed\n",
    "print(\"Number of data points in time - tcounter:\",tcounter)"
   ]
  },
  {
   "cell_type": "markdown",
   "metadata": {},
   "source": [
    "## Check Indices"
   ]
  },
  {
   "cell_type": "code",
   "execution_count": 5,
   "metadata": {
    "collapsed": false
   },
   "outputs": [
    {
     "name": "stdout",
     "output_type": "stream",
     "text": [
      "-0.0018 102.95999999999665\n"
     ]
    }
   ],
   "source": [
    "print(filtered_pressure[-1],time[-1])"
   ]
  },
  {
   "cell_type": "markdown",
   "metadata": {},
   "source": [
    "## Plot Graphs"
   ]
  },
  {
   "cell_type": "code",
   "execution_count": 7,
   "metadata": {
    "collapsed": false
   },
   "outputs": [
    {
     "data": {
      "image/png": "[encoded data removed]",
      "text/plain": [
       "<matplotlib.figure.Figure at 0x29ae3fc4908>"
      ]
     },
     "metadata": {},
     "output_type": "display_data"
    }
   ],
   "source": [
    "fig, ax = plt.subplots(1)\n",
    "ax.scatter(time, filtered_pressure) #create a scatter plot\n",
    "axis_font = {'size':'12'} #customize graph\n",
    "plt.ylabel(\"Pressure\",**axis_font),plt.xlabel(\"Time\",**axis_font) #name axes\n",
    "plt.show() #show graph"
   ]
  },
  {
   "cell_type": "code",
   "execution_count": null,
   "metadata": {
    "collapsed": true
   },
   "outputs": [],
   "source": []
  }
 ],
 "metadata": {
  "kernelspec": {
   "display_name": "Python [conda root]",
   "language": "python",
   "name": "conda-root-py"
  },
  "language_info": {
   "codemirror_mode": {
    "name": "ipython",
    "version": 3
   },
   "file_extension": ".py",
   "mimetype": "text/x-python",
   "name": "python",
   "nbconvert_exporter": "python",
   "pygments_lexer": "ipython3",
   "version": "3.5.2"
  }
 },
 "nbformat": 4,
 "nbformat_minor": 1
}
