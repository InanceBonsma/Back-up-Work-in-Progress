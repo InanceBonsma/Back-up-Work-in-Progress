{
 "cells": [
  {
   "cell_type": "markdown",
   "metadata": {},
   "source": [
    "# 3D Geometric Model of Inflated Dunnage Bag - Reduction in Void"
   ]
  },
  {
   "cell_type": "markdown",
   "metadata": {},
   "source": [
    "## Assumptions:"
   ]
  },
  {
   "cell_type": "markdown",
   "metadata": {},
   "source": [
    "1. Material is rigid\n",
    "2. Idealized geometry\n",
    "3. Not rate dependent\n",
    "4. Mass is constant\n",
    "5. Temperature has no effect on the material or the inflated air"
   ]
  },
  {
   "cell_type": "markdown",
   "metadata": {
    "collapsed": true
   },
   "source": [
    "## Import Libraries:"
   ]
  },
  {
   "cell_type": "code",
   "execution_count": 1,
   "metadata": {
    "collapsed": false
   },
   "outputs": [],
   "source": [
    "import os\n",
    "import pandas as pd\n",
    "import matplotlib.pyplot as plt, numpy as np\n",
    "from scipy.interpolate import spline\n",
    "from math import pi #import pi function for simple reference"
   ]
  },
  {
   "cell_type": "markdown",
   "metadata": {},
   "source": [
    "## Functions:"
   ]
  },
  {
   "cell_type": "code",
   "execution_count": 2,
   "metadata": {
    "collapsed": true
   },
   "outputs": [],
   "source": [
    "#Find volume from length, width and diameter\n",
    "def updateVolume(width,length,diameter):\n",
    "    LengthLong = width - float(pi*diameter)/2 \n",
    "    AreaLong = diameter*LengthLong + float(pi*diameter**2)/4\n",
    "    LengthShort = length - float(pi*diameter)/2\n",
    "    AreaShort = diameter*LengthShort + float(pi*diameter**2)/4\n",
    "    VolumeSphere = float(1/6)*(diameter**3)*(pi)\n",
    "    return (AreaLong*LengthShort) + (AreaShort*LengthLong) + VolumeSphere"
   ]
  },
  {
   "cell_type": "code",
   "execution_count": 3,
   "metadata": {
    "collapsed": true
   },
   "outputs": [],
   "source": [
    "#Update the Pressure using Ideal Gas Law\n",
    "def updatePressure(mass,volume):\n",
    "    return mass*8.15*300/volume"
   ]
  },
  {
   "cell_type": "code",
   "execution_count": 4,
   "metadata": {
    "collapsed": true
   },
   "outputs": [],
   "source": [
    "#Get the mass using the Ideal Gas Law\n",
    "def updateMass(pressure,volume):\n",
    "    return(pressure*volume)/(8.15*300.0)"
   ]
  },
  {
   "cell_type": "code",
   "execution_count": 5,
   "metadata": {
    "collapsed": true
   },
   "outputs": [],
   "source": [
    "#Get stess from Barlow's formula\n",
    "def updateStress(diameter,pressure): \n",
    "    return (diameter*pressure)/(2*1)"
   ]
  },
  {
   "cell_type": "code",
   "execution_count": 17,
   "metadata": {
    "collapsed": true
   },
   "outputs": [],
   "source": [
    "#Find the new length using the strain calculated\n",
    "def updateLength(length,strain):\n",
    "    ChangeInLength = length*strain \n",
    "    return length+ChangeInLength"
   ]
  },
  {
   "cell_type": "code",
   "execution_count": 18,
   "metadata": {
    "collapsed": false
   },
   "outputs": [],
   "source": [
    "#Get strain from stress-strain curve\n",
    "def getStrain(stress,strain,stress_barlow):\n",
    "    index = np.array(stress).searchsorted(stress_barlow)#find index from barlow's stress value\n",
    "    x2 = strain[index-1] #find strain value to left\n",
    "    x1 = strain[index] #find strain value to right\n",
    "    y2 = stress[index-1] #find stress value to left\n",
    "    y1 = stress[index] #find stress value to right\n",
    "    return x1 + (stress_barlow-y1)*(x2 - x1)/(y2 - y1)"
   ]
  },
  {
   "cell_type": "markdown",
   "metadata": {},
   "source": [
    "## Import Data for Stress-Strain:"
   ]
  },
  {
   "cell_type": "code",
   "execution_count": 19,
   "metadata": {
    "collapsed": false
   },
   "outputs": [
    {
     "name": "stdout",
     "output_type": "stream",
     "text": [
      "[  4.14960000e+02   5.63640000e+02   6.66400000e+02   7.16240000e+02\n",
      "   7.46760000e+02   7.91280000e+02   8.65480000e+02   8.97400000e+02\n",
      "   9.04680000e+02   8.51480000e+02   8.89840000e+02   8.39160000e+02\n",
      "   6.33920000e+02   3.47200000e+01   3.13600000e+01   6.02000000e+01\n",
      "   7.72800000e+01   9.52000000e+01   1.00240000e+02   1.28800000e+02\n",
      "   1.71360000e+02   2.07200000e+02   2.78040000e+02   3.68760000e+02\n",
      "   4.62280000e+02   5.66160000e+02   6.94400000e+02   8.27680000e+02\n",
      "   9.58720000e+02   1.08388000e+03   1.15024000e+03   1.17516000e+03\n",
      "   1.28128000e+03   1.42016000e+03   1.55988000e+03   1.67412000e+03\n",
      "   1.79200000e+03   1.93144000e+03   2.08432000e+03   2.23916000e+03\n",
      "   2.42032000e+03   2.63088000e+03   2.81064000e+03   3.01896000e+03\n",
      "   3.21832000e+03   3.43448000e+03   3.66464000e+03   3.90880000e+03\n",
      "   4.14624000e+03   4.39572000e+03   4.64828000e+03   4.92716000e+03\n",
      "   5.19960000e+03   5.48744000e+03   5.77864000e+03   6.05976000e+03\n",
      "   6.30504000e+03   6.59232000e+03   6.85944000e+03   7.11872000e+03\n",
      "   7.38864000e+03   7.63000000e+03   7.87752000e+03   8.11020000e+03\n",
      "   8.34288000e+03   8.57584000e+03   8.80180000e+03   9.01600000e+03\n",
      "   9.22684000e+03   9.44076000e+03   9.65188000e+03   9.84424000e+03\n",
      "   1.00654400e+04   1.02695600e+04   1.04840400e+04   1.06825600e+04\n",
      "   1.08558800e+04   1.10639200e+04   1.12691600e+04   1.14802800e+04\n",
      "   1.17068000e+04   1.19302400e+04   1.21466800e+04   1.23706800e+04\n",
      "   1.25955200e+04   1.28097200e+04   1.30222400e+04   1.32274800e+04\n",
      "   1.34517600e+04   1.36735200e+04   1.39081600e+04   1.41299200e+04\n",
      "   1.43701600e+04   1.45871600e+04   1.47963200e+04   1.50399200e+04\n",
      "   1.52846400e+04   1.55125600e+04   1.57402000e+04   1.59700800e+04\n",
      "   1.62086400e+04   1.64248000e+04   1.66636400e+04   1.69055600e+04\n",
      "   1.71334800e+04   1.73731600e+04   1.75929600e+04   1.78301200e+04\n",
      "   1.80532800e+04   1.82926800e+04   1.85295600e+04   1.87448800e+04\n",
      "   1.89708400e+04   1.91973600e+04   1.94180000e+04   1.96380800e+04\n",
      "   1.98612400e+04   2.00914000e+04   2.03257600e+04   2.05528400e+04\n",
      "   2.07709600e+04   2.09848800e+04   2.12214800e+04   2.14474400e+04\n",
      "   2.16725600e+04   2.19021600e+04   2.21295200e+04   2.23563200e+04\n",
      "   2.25710800e+04   2.28026400e+04   2.30353200e+04   2.32447600e+04\n",
      "   2.34752000e+04   2.37000400e+04   2.39142400e+04   2.41494400e+04\n",
      "   2.43563600e+04   2.45837200e+04   2.47998800e+04   2.50138000e+04\n",
      "   2.52159600e+04   2.54324000e+04   2.56432400e+04   2.58596800e+04\n",
      "   2.60828400e+04   2.62911600e+04   2.65123600e+04   2.67153600e+04\n",
      "   2.69326400e+04   2.71328400e+04   2.73408800e+04   2.75520000e+04\n",
      "   2.77636800e+04   2.79711600e+04   2.78409600e+04   2.80613200e+04\n",
      "   2.82668400e+04   2.84522000e+04   2.86728400e+04   2.88652000e+04\n",
      "   2.90606400e+04   2.92572000e+04   2.94534800e+04   2.96433200e+04\n",
      "   2.98390400e+04   3.00249600e+04   3.02097600e+04   3.04029600e+04\n",
      "   3.05944800e+04   3.07969200e+04   3.09730400e+04   3.11567200e+04\n",
      "   3.13356400e+04   3.15218400e+04   3.16982400e+04   3.18945200e+04\n",
      "   3.20653200e+04   3.22476000e+04   3.24156000e+04   3.26096400e+04\n",
      "   3.27759600e+04   3.29607600e+04   3.31368800e+04   3.32925600e+04\n",
      "   3.34698000e+04   3.36501200e+04   3.38290400e+04   3.39959200e+04\n",
      "   3.41712000e+04   3.43350000e+04   3.45086000e+04   3.46777200e+04\n",
      "   3.48387200e+04   3.50070000e+04   3.51705200e+04   3.53402000e+04\n",
      "   3.55222000e+04   3.56680800e+04   3.58388800e+04   3.59954000e+04\n",
      "   3.61519200e+04   3.63126400e+04   3.64627200e+04   3.66170000e+04\n",
      "   3.67712800e+04   3.69191200e+04   3.70725600e+04   3.72288000e+04\n",
      "   3.73805600e+04   3.75384800e+04   3.76815600e+04   3.78246400e+04\n",
      "   3.79708000e+04   3.81262000e+04   3.82807600e+04   3.84132000e+04\n",
      "   3.85683200e+04   3.87055200e+04   3.88500000e+04   3.89869200e+04\n",
      "   3.91406400e+04   3.92868000e+04   3.94298800e+04   3.95668000e+04\n",
      "   3.96978400e+04   3.98339200e+04   3.99641200e+04   4.00993600e+04\n",
      "   4.02446800e+04   4.03771200e+04   4.05042400e+04   4.06380800e+04\n",
      "   4.07598800e+04   4.08982000e+04   4.10328800e+04   4.11633600e+04\n",
      "   4.12851600e+04   4.14052800e+04   4.15430400e+04   4.16718400e+04\n",
      "   4.17998000e+04   4.19316800e+04   4.20593600e+04   4.21811600e+04\n",
      "   4.22830800e+04   4.24200000e+04   4.25404000e+04   4.26456800e+04\n",
      "   4.27658000e+04   4.28867600e+04   4.30074400e+04   4.31270000e+04\n",
      "   4.32460000e+04   4.33728400e+04   4.34870800e+04   4.35985200e+04\n",
      "   4.37052000e+04   4.38326000e+04   4.39479600e+04   4.40580000e+04\n",
      "   4.41604800e+04   4.42694000e+04   4.43632000e+04   4.44598000e+04\n",
      "   4.34316400e+04   4.35248800e+04   4.36212000e+04   4.37379600e+04\n",
      "   4.38432400e+04   4.39577600e+04   4.40526800e+04   4.30354400e+04\n",
      "   4.32216400e+04   4.33196400e+04   4.34358400e+04   4.35260000e+04\n",
      "   4.36116800e+04   4.37077200e+04   4.37970400e+04   4.38846800e+04\n",
      "   4.39885600e+04   4.40613600e+04   4.41534800e+04   4.42500800e+04\n",
      "   4.43256800e+04   4.44161200e+04   4.45032000e+04   4.45928000e+04\n",
      "   4.35439200e+04   4.36853200e+04   4.37578400e+04   4.38435200e+04\n",
      "   4.39107200e+04   4.26938400e+04   4.28929200e+04   4.29769200e+04\n",
      "   4.30164000e+04   4.18759600e+04   4.19157200e+04   4.06501200e+04\n",
      "   4.08301600e+04   4.08934400e+04   4.09267600e+04   3.84384000e+04\n",
      "   3.85795200e+04   3.86302000e+04   3.86772400e+04   3.87290400e+04\n",
      "   3.72988000e+04   3.73536800e+04   3.73881200e+04   3.74273200e+04\n",
      "   3.74763200e+04   3.72386000e+04   3.62804400e+04   3.63210400e+04\n",
      "   3.63655600e+04   3.64047600e+04   3.64470400e+04   3.64624400e+04\n",
      "   3.64943600e+04   3.63616400e+04   2.72871200e+04   2.17652400e+04\n",
      "   1.77217600e+04   1.79012400e+04   1.68425600e+04   1.68464800e+04\n",
      "   1.43931200e+04   1.44295200e+04   1.07402400e+04   6.86392000e+03\n",
      "   6.84852000e+03   6.86308000e+03   6.87120000e+03   6.87988000e+03\n",
      "   6.88632000e+03   6.88492000e+03   6.91404000e+03   6.91124000e+03\n",
      "   5.66916000e+03   5.67476000e+03   5.67672000e+03   5.65124000e+03\n",
      "   5.65264000e+03   5.66356000e+03   5.67392000e+03   5.67168000e+03\n",
      "   4.25236000e+03   4.33300000e+03   2.98116000e+03   2.96632000e+03\n",
      "   2.96072000e+03   2.97948000e+03   2.98900000e+03   2.98284000e+03\n",
      "   2.99852000e+03   1.32160000e+03   1.30144000e+03   1.30284000e+03\n",
      "   1.28604000e+03   1.30060000e+03   1.30592000e+03   1.31012000e+03\n",
      "   1.32468000e+03   1.32720000e+03   1.33084000e+03   1.33252000e+03\n",
      "   1.34120000e+03   1.36276000e+03   1.34848000e+03   1.36808000e+03\n",
      "   1.37256000e+03   1.37368000e+03   1.38572000e+03   1.39580000e+03\n",
      "   1.39664000e+03   1.39944000e+03   1.40336000e+03   1.41764000e+03\n",
      "   1.40924000e+03   1.41960000e+03   1.42800000e+03   1.42548000e+03\n",
      "   1.42856000e+03   1.43668000e+03   1.43948000e+03   1.43864000e+03\n",
      "   1.46020000e+03   1.44592000e+03   1.45628000e+03   1.45264000e+03\n",
      "   1.44956000e+03   1.45208000e+03   1.45824000e+03   1.46076000e+03\n",
      "   1.46412000e+03   1.46916000e+03   1.47840000e+03   8.12000000e+00\n",
      "   1.96000000e+00  -2.54800000e+01  -1.96000000e+00  -1.68000000e+00\n",
      "  -2.80000000e-01   7.84000000e+00   5.04000000e+00  -1.40000000e+00\n",
      "  -3.08000000e+00   9.52000000e+00   5.32000000e+00   8.12000000e+00\n",
      "   4.48000000e+00   1.17600000e+01   1.28800000e+01   1.09200000e+01\n",
      "  -2.80000000e-01  -3.36000000e+00   3.64000000e+00   2.24000000e+00\n",
      "   1.14800000e+01  -8.12000000e+00   1.82000000e+01   1.20400000e+01\n",
      "   8.96000000e+00   8.40000000e+00   1.31600000e+01  -3.36000000e+00\n",
      "   1.40000000e+00   2.24000000e+00   1.73600000e+01  -1.12000000e+00\n",
      "   2.07200000e+01   1.59600000e+01   1.70800000e+01   1.03600000e+01\n",
      "   1.42800000e+01   2.40800000e+01   2.24000000e+01   2.12800000e+01\n",
      "   2.07200000e+01   2.46400000e+01   1.65200000e+01   1.03600000e+01\n",
      "   1.17600000e+01   1.40000000e+01   2.01600000e+01   1.09200000e+01\n",
      "   2.52000000e+01   2.57600000e+01   2.52000000e+01   1.48400000e+01\n",
      "   2.10000000e+01   1.37200000e+01   6.44000000e+00   1.48400000e+01\n",
      "   1.84800000e+01] [ 0.998862    0.99619     0.99342722  0.99065144  0.98787433  0.98509722\n",
      "  0.98231944  0.979541    0.97676322  0.97398544  0.97120767  0.96842922\n",
      "  0.96565211  0.96287367  0.96009589  0.95731811  0.95454033  0.95176256\n",
      "  0.94898411  0.946207    0.94342856  0.94065078  0.93787367  0.93509522\n",
      "  0.93231811  0.92954033  0.92676256  0.92398478  0.921207    0.91842922\n",
      "  0.91565144  0.91287367  0.91009589  0.90731811  0.904541    0.90176256\n",
      "  0.89898478  0.89620767  0.89342922  0.89065144  0.88787367  0.88509589\n",
      "  0.88231811  0.87954033  0.87676256  0.87398411  0.871207    0.86842922\n",
      "  0.86565144  0.862873    0.86009589  0.85731811  0.854541    0.85176256\n",
      "  0.84898544  0.846207    0.84342989  0.84065211  0.83787433  0.83509656\n",
      "  0.83231878  0.829541    0.82676322  0.82398544  0.821207    0.81842922\n",
      "  0.81565211  0.81287433  0.81009589  0.80731811  0.80454033  0.80176322\n",
      "  0.79898478  0.796207    0.79342922  0.79065211  0.78787433  0.78509656\n",
      "  0.78231878  0.779541    0.77676256  0.77398611  0.77120833  0.76842989\n",
      "  0.76565211  0.76287433  0.76009656  0.75731944  0.754541    0.75176322\n",
      "  0.74898544  0.74620767  0.74342989  0.74065211  0.737875    0.73509656\n",
      "  0.73231878  0.72954167  0.72676389  0.72398544  0.72120767  0.71843056\n",
      "  0.71565278  0.71287567  0.71009722  0.70731944  0.70454167  0.70176389\n",
      "  0.69898744  0.69620967  0.69343189  0.69065344  0.68787567  0.68509789\n",
      "  0.68231944  0.67954167  0.67676389  0.67398611  0.67120833  0.66843056\n",
      "  0.66565278  0.662875    0.66009722  0.65732011  0.65454233  0.65176389\n",
      "  0.64898678  0.64620833  0.64343122  0.64065344  0.63787567  0.63509789\n",
      "  0.63232078  0.629543    0.62676522  0.62398744  0.621209    0.61843122\n",
      "  0.61565411  0.61287567  0.61009789  0.60732011  0.60454233  0.60176456\n",
      "  0.59898678  0.59620967  0.59343189  0.59065344  0.58787633  0.58509856\n",
      "  0.58232078  0.579543    0.57676522  0.57398744  0.57121044  0.56843267\n",
      "  0.56565411  0.56287633  0.56009933  0.55732156  0.554543    0.55176522\n",
      "  0.54898744  0.54621044  0.54343189  0.54065489  0.53787711  0.53509789\n",
      "  0.53232078  0.529543    0.52676522  0.52398744  0.52121044  0.51843333\n",
      "  0.51565489  0.51287711  0.51009933  0.50732222  0.50454444  0.50176667\n",
      "  0.49898956  0.49621111  0.49343333  0.49065556  0.48787711  0.4851\n",
      "  0.48232156  0.479543    0.476766    0.47398822  0.47121044  0.46843189\n",
      "  0.46565556  0.46287711  0.46009933  0.45732222  0.45454378  0.451766\n",
      "  0.44898889  0.44621111  0.443434    0.44065556  0.43787778  0.4351\n",
      "  0.43232289  0.42954444  0.42676733  0.42398889  0.42121111  0.41843333\n",
      "  0.41565622  0.41287711  0.41009933  0.40732222  0.40454444  0.40176667\n",
      "  0.39898889  0.39621111  0.39343333  0.39065556  0.38787844  0.38510067\n",
      "  0.38232289  0.37954444  0.37676667  0.37398956  0.37121178  0.368434\n",
      "  0.36565622  0.36287844  0.36010133  0.35732289  0.35454511  0.35176733\n",
      "  0.34898956  0.34621111  0.34343333  0.34065556  0.33787844  0.3351\n",
      "  0.33232222  0.32954444  0.32676667  0.32398889  0.32121178  0.31843467\n",
      "  0.31565689  0.31287844  0.31010067  0.30732289  0.30454578  0.30176733\n",
      "  0.29899089  0.29621178  0.293434    0.29065622  0.28787911  0.28510067\n",
      "  0.28232222  0.27954511  0.27676733  0.27398889  0.27121111  0.26843333\n",
      "  0.26565556  0.26287844  0.26010067  0.25732289  0.25454511  0.25176733\n",
      "  0.24898956  0.24621178  0.243434    0.24065689  0.23787911  0.23510133\n",
      "  0.23232356  0.22954578  0.22676733  0.22399022  0.22121178  0.21843467\n",
      "  0.21565622  0.21287844  0.21010067  0.20732289  0.20454511  0.20176733\n",
      "  0.19898889  0.19621111  0.19343333  0.19065556  0.18787778  0.18510067\n",
      "  0.18232222  0.17954444  0.17676667  0.17398889  0.17121178  0.16843333\n",
      "  0.16565556  0.16287778  0.1601      0.15732222  0.15454444  0.15176667\n",
      "  0.14898889  0.14621044  0.14343267  0.14065489  0.13787711  0.13509933\n",
      "  0.13232156  0.12954378  0.126766    0.12398822  0.12121044  0.11843267\n",
      "  0.11565489  0.11287711  0.11009933  0.10732222  0.104543    0.10176456\n",
      "  0.09898611  0.09620833  0.09343122  0.09065278  0.08787433  0.08509656\n",
      "  0.08231878  0.07954033  0.07676256  0.07398411  0.071207    0.06842922\n",
      "  0.06565144  0.062873    0.06009656  0.05731878  0.05454033  0.05176322\n",
      "  0.04898544  0.046207    0.04342856  0.04065144  0.03787433  0.03509656\n",
      "  0.03231811  0.02954033  0.02676256  0.02398478  0.021207    0.01842922\n",
      "  0.01565144  0.01287367  0.01009589  0.00731744  0.004539    0.00176122\n",
      " -0.00101656 -0.00379367 -0.00657144 -0.00934922 -0.012127   -0.01490478\n",
      " -0.01768256 -0.02046033 -0.02323811 -0.02601589 -0.02879433 -0.03157144\n",
      " -0.03434856 -0.037127   -0.03990478 -0.04268256 -0.04546033 -0.04823811\n",
      " -0.05101522 -0.05379367 -0.05657144 -0.05934989 -0.06212767 -0.06490478\n",
      " -0.06768256 -0.07046033 -0.07323811 -0.07601589 -0.07879367 -0.08157144\n",
      " -0.08434856 -0.087127   -0.08990478 -0.09268189 -0.09545967 -0.09823811\n",
      " -0.10101522 -0.103793   -0.10657078 -0.10934856 -0.112127   -0.11490478\n",
      " -0.11768256 -0.12046033 -0.12323811 -0.12601589 -0.12879433 -0.13157211\n",
      " -0.13434989 -0.137127   -0.13990478 -0.14268256 -0.14546033 -0.14823744\n",
      " -0.15101589 -0.15379367 -0.15657144 -0.15934922 -0.16212633 -0.16490411\n",
      " -0.16768189 -0.17045967 -0.17323744 -0.17601589 -0.17879367 -0.18157078\n",
      " -0.18434922 -0.187127   -0.18990478 -0.19268322 -0.195461   -0.19823878\n",
      " -0.20101589 -0.203793   -0.20657144 -0.20934989 -0.212127   -0.21490478\n",
      " -0.21768256 -0.22046033 -0.22323744 -0.22601589 -0.22879367 -0.23157078\n",
      " -0.23434856 -0.237127   -0.23990411 -0.24268189 -0.24545967 -0.24823744\n",
      " -0.25101522 -0.25379367 -0.25657144 -0.25934922 -0.26212633 -0.26490411\n",
      " -0.26712578]\n"
     ]
    }
   ],
   "source": [
    "#for root,dirs,files in os.walk('C:\\Users\\Inance\\Documents\\Thesis\\Experiments\\Tensile_Tests\\Trial_Round\\Tensile_test_mts\\Inance_pp_mts\\8_5_2016_300mm_min_GREEN\\WAR'):\n",
    "   # for file in files:\n",
    "tensile=pd.read_csv(r'C:\\Users\\Inance\\Documents\\Thesis\\Experiments\\Tensile_Tests\\Trial_Round\\Tensile_test_mts\\Inance_pp_mts\\8_5_2016_300mm_min_GREEN\\WARP\\specimen1.1.txt',header=None,names=['Time','Load','Extension','Strain','Crosshead','Extensometer'])\n",
    "load=np.array(tensile.Load)\n",
    "crosshead=np.array(tensile.Crosshead)\n",
    "sig=load*70*0.4*10**3\n",
    "eps=(90-crosshead)/90\n",
    "print(sig,eps)"
   ]
  },
  {
   "cell_type": "markdown",
   "metadata": {},
   "source": [
    "## Main A - Just Inflated:"
   ]
  },
  {
   "cell_type": "code",
   "execution_count": 20,
   "metadata": {
    "collapsed": false
   },
   "outputs": [],
   "source": [
    "def MainA(w,l,d,m,V,P,sig_b,sig,eps):\n",
    "    # Main A - loop parameters:\n",
    "    max_iter = 200 #maximum number of iterations\n",
    "    m_tol = 0.0005 #mass tolerance\n",
    "    i = 0 #starting number of iteration\n",
    "    m_diff = 10.0 #\n",
    "    m_old = 100 #old mass \n",
    "    \n",
    "    \n",
    "    while (m_diff >= m_tol and i < max_iter):\n",
    "        P.append(P[0]) #update Pressure\n",
    "    \n",
    "        sig_b.append(updateStress(d,P[i+1])) #get Stress using Barlow's formula\n",
    "    \n",
    "        epsa.append(getStrain(sig,eps,sig_b[i+1])) #call Strain function\n",
    "    \n",
    "        l.append(updateLength(l[0],epsa[i+1]))#get updated length\n",
    "    \n",
    "        V.append(updateVolume(w,l[i+1],d)) #get Volume\n",
    "    \n",
    "        m.append(updateMass(P[i+1],V[i+1])) #initial mass from Ideal Gas Law\n",
    "    \n",
    "        #Loop constraints\n",
    "        m_diff = np.abs(m[i+1] - m_old) #calculate abs difference between old m and new m\n",
    "        m_old = m[i+1] #set the old m equal to the current m for the next loop\n",
    "\n",
    "\n",
    "        i+=1 #increment i to loop\n",
    "        return l,d,m,V,P,sig_b"
   ]
  },
  {
   "cell_type": "markdown",
   "metadata": {},
   "source": [
    "## Main B - Reduction in Void:"
   ]
  },
  {
   "cell_type": "code",
   "execution_count": 21,
   "metadata": {
    "collapsed": false
   },
   "outputs": [],
   "source": [
    "def MainB(w,l,d,m,V,P,sig_b,sig,eps):\n",
    "\n",
    "    d_red=[0.3] #diameter with reduction main\n",
    "    m_red = [m[2]] #end mass of Main A, starting mass for Main B\n",
    "    V_red = [V[2]] #end volume of Main A, starting volume for Main B\n",
    "    P_red = [P[2]] #end pressure of Main A, starting pressure for Main B\n",
    "    sig_b_red = [sig_b[2]] #end barlow stress of Main A, starting barlow stress for Main B\n",
    "    epsa_red = [epsa[2]] #end strain of Main A, starting strain for Main B\n",
    "    l_red = [l[2]] #end length of Main A, starting length for Main B\n",
    "    \n",
    "    #Loop parameters:\n",
    "    max_iter = 5\n",
    "    k = 0 #number of iterations\n",
    "    l_tol = 0.0005\n",
    "    l_diff = 10.0\n",
    "    l_old = 10\n",
    "\n",
    "    while l_diff >= l_tol and k < max_iter:\n",
    "    \n",
    "        V_red.append(updateVolume(w,l_red[k],d_red[0])) #get Volume\n",
    "    \n",
    "        P_red.append(updatePressure(m_red[0],V_red[k+1]))\n",
    "    \n",
    "        sig_b_red.append(updateStress(d_red[0],P_red[k+1]))\n",
    "    \n",
    "        epsa_red.append(getStrain(sig,eps,sig_b_red[k+1]))\n",
    "    \n",
    "        l_red.append(updateLength(l_red[0],epsa_red[k+1]))#get updated length\n",
    "    \n",
    "        #Loop constraints\n",
    "        l_diff = np.abs(l_red[k+1] - l_old) #calculate abs difference between old V and new V\n",
    "        l_old = l_red[k+1] #set the old V equal to the current V for the next loop\n",
    "        print(d_red[0],'\\t',P_red[k+1],'\\t',epsa_red[k+1],'\\t',V_red[k+1],'\\t',sig_b_red[k+1])\n",
    "        k+=1 #increment k to loop \n",
    "        \n",
    "        return l_red,d_red,m_red,V_red,P_red,sig_b_red"
   ]
  },
  {
   "cell_type": "markdown",
   "metadata": {},
   "source": [
    "## MAIN - Time loop:"
   ]
  },
  {
   "cell_type": "code",
   "execution_count": 22,
   "metadata": {
    "collapsed": false
   },
   "outputs": [
    {
     "name": "stdout",
     "output_type": "stream",
     "text": [
      "d_red \t P_red \t\t\t epsa_red \t\t V_red \t sig_b_red\n"
     ]
    }
   ],
   "source": [
    "time = 10\n",
    "t=0\n",
    "#Constants:\n",
    "w=1.5\n",
    "d=0.5\n",
    "dur=1.0\n",
    "\n",
    "#Initial values:\n",
    "l=[2.0] #initial length\n",
    "P=[100000]  #initial pressure absolute!!!\n",
    "V=[10]\n",
    "m=[updateMass(P[0],V[0])] #initial mass from Ideal Gas Law\n",
    "sig_b = [updateStress(d,P[0])] #initial stress form Barlows\n",
    "epsa = [0.0]\n",
    "\n",
    "#Input parameters for Main B:\n",
    "w=1.5\n",
    "\n",
    "Main_A = [0]\n",
    "\n",
    "print('d_red','\\t','P_red','\\t\\t\\t','epsa_red','\\t\\t','V_red','\\t','sig_b_red')\n",
    "    \n",
    "while t<=time:\n",
    "    Main_A.append(MainA(w,l,d,m,V,P,sig_b,sig,eps))  \n",
    "\n",
    "    #MainB(w,l,d,m,V,P,sig_b,sig,eps)\n",
    "    t+=1"
   ]
  },
  {
   "cell_type": "markdown",
   "metadata": {
    "collapsed": true
   },
   "source": [
    "## Input Graphs:"
   ]
  },
  {
   "cell_type": "markdown",
   "metadata": {},
   "source": [
    "### Stress vs Strain"
   ]
  },
  {
   "cell_type": "code",
   "execution_count": 23,
   "metadata": {
    "collapsed": false
   },
   "outputs": [
    {
     "data": {
      "image/png": "[encoded data removed]",
      "text/plain": [
       "<matplotlib.figure.Figure at 0x234ef2a8ef0>"
      ]
     },
     "metadata": {},
     "output_type": "display_data"
    },
    {
     "data": {
      "text/plain": [
       "<function matplotlib.pyplot.close>"
      ]
     },
     "execution_count": 23,
     "metadata": {},
     "output_type": "execute_result"
    }
   ],
   "source": [
    "#Stress vs Strain - Data generated by Tensile Test\n",
    "plt.figure(1)\n",
    "axis_font = {'fontname':'Constantia', 'size':'14'}\n",
    "plt.show(plt.plot(eps,sig))\n",
    "plt.ylabel(\"Stress\",**axis_font),plt.xlabel(\"Strain\",**axis_font)\n",
    "plt.close"
   ]
  },
  {
   "cell_type": "markdown",
   "metadata": {},
   "source": [
    "### Pressure vs Barlow's Stress"
   ]
  },
  {
   "cell_type": "code",
   "execution_count": 24,
   "metadata": {
    "collapsed": false
   },
   "outputs": [
    {
     "ename": "NameError",
     "evalue": "name 'sig_b_red' is not defined",
     "output_type": "error",
     "traceback": [
      "\u001b[0;31m---------------------------------------------------------------------------\u001b[0m",
      "\u001b[0;31mNameError\u001b[0m                                 Traceback (most recent call last)",
      "\u001b[0;32m<ipython-input-24-15dfff4d70ec>\u001b[0m in \u001b[0;36m<module>\u001b[0;34m()\u001b[0m\n\u001b[1;32m      1\u001b[0m \u001b[0mplt\u001b[0m\u001b[1;33m.\u001b[0m\u001b[0mfigure\u001b[0m\u001b[1;33m(\u001b[0m\u001b[1;36m2\u001b[0m\u001b[1;33m)\u001b[0m\u001b[1;33m\u001b[0m\u001b[0m\n\u001b[1;32m      2\u001b[0m \u001b[0maxis_font\u001b[0m \u001b[1;33m=\u001b[0m \u001b[1;33m{\u001b[0m\u001b[1;34m'fontname'\u001b[0m\u001b[1;33m:\u001b[0m\u001b[1;34m'Constantia'\u001b[0m\u001b[1;33m,\u001b[0m \u001b[1;34m'size'\u001b[0m\u001b[1;33m:\u001b[0m\u001b[1;34m'14'\u001b[0m\u001b[1;33m}\u001b[0m\u001b[1;33m\u001b[0m\u001b[0m\n\u001b[0;32m----> 3\u001b[0;31m \u001b[0mplt\u001b[0m\u001b[1;33m.\u001b[0m\u001b[0mshow\u001b[0m\u001b[1;33m(\u001b[0m\u001b[0mplt\u001b[0m\u001b[1;33m.\u001b[0m\u001b[0mplot\u001b[0m\u001b[1;33m(\u001b[0m\u001b[0msig_b_red\u001b[0m\u001b[1;33m,\u001b[0m\u001b[0mP_red\u001b[0m\u001b[1;33m)\u001b[0m\u001b[1;33m)\u001b[0m\u001b[1;33m\u001b[0m\u001b[0m\n\u001b[0m\u001b[1;32m      4\u001b[0m \u001b[0mplt\u001b[0m\u001b[1;33m.\u001b[0m\u001b[0mxlabel\u001b[0m\u001b[1;33m(\u001b[0m\u001b[1;34m\"Barlow's stress\"\u001b[0m\u001b[1;33m,\u001b[0m\u001b[1;33m**\u001b[0m\u001b[0maxis_font\u001b[0m\u001b[1;33m)\u001b[0m\u001b[1;33m,\u001b[0m\u001b[0mplt\u001b[0m\u001b[1;33m.\u001b[0m\u001b[0mylabel\u001b[0m\u001b[1;33m(\u001b[0m\u001b[1;34m\"Pressure\"\u001b[0m\u001b[1;33m,\u001b[0m\u001b[1;33m**\u001b[0m\u001b[0maxis_font\u001b[0m\u001b[1;33m)\u001b[0m\u001b[1;33m\u001b[0m\u001b[0m\n\u001b[1;32m      5\u001b[0m \u001b[0mplt\u001b[0m\u001b[1;33m.\u001b[0m\u001b[0mclose\u001b[0m\u001b[1;33m\u001b[0m\u001b[0m\n",
      "\u001b[0;31mNameError\u001b[0m: name 'sig_b_red' is not defined"
     ]
    }
   ],
   "source": [
    "plt.figure(2)\n",
    "axis_font = {'fontname':'Constantia', 'size':'14'}\n",
    "plt.show(plt.plot(sig_b_red,P_red))\n",
    "plt.xlabel(\"Barlow's stress\",**axis_font),plt.ylabel(\"Pressure\",**axis_font)\n",
    "plt.close"
   ]
  },
  {
   "cell_type": "markdown",
   "metadata": {},
   "source": [
    "## Iteration Graphs:"
   ]
  },
  {
   "cell_type": "markdown",
   "metadata": {},
   "source": [
    "### Pressure vs Iteration number"
   ]
  },
  {
   "cell_type": "code",
   "execution_count": null,
   "metadata": {
    "collapsed": false
   },
   "outputs": [],
   "source": [
    "#Pressure vs Iteration number \n",
    "plt.figure(3)\n",
    "axis_font = {'fontname':'Constantia', 'size':'14'}\n",
    "plt.show(plt.plot(range(len(P_red)),P_red))\n",
    "plt.ylabel(\"Pressure\",**axis_font),plt.xlabel(\"Iteration number\",**axis_font)\n",
    "plt.close"
   ]
  },
  {
   "cell_type": "markdown",
   "metadata": {},
   "source": [
    "### Diameter vs Iteration number"
   ]
  },
  {
   "cell_type": "code",
   "execution_count": null,
   "metadata": {
    "collapsed": false
   },
   "outputs": [],
   "source": [
    "#Diameter vs Iteration number \n",
    "plt.figure(4)\n",
    "axis_font = {'fontname':'Constantia', 'size':'14'}\n",
    "plt.show(plt.plot(range(len(d_red)),d_red))\n",
    "plt.ylabel(\"Diameter\",**axis_font),plt.xlabel(\"Iteration number\",**axis_font)\n",
    "plt.close"
   ]
  },
  {
   "cell_type": "markdown",
   "metadata": {},
   "source": [
    "### Strain vs Iteration number"
   ]
  },
  {
   "cell_type": "code",
   "execution_count": null,
   "metadata": {
    "collapsed": false
   },
   "outputs": [],
   "source": [
    "#Strain vs Iteration number \n",
    "plt.figure(5)\n",
    "axis_font = {'fontname':'Constantia', 'size':'14'}\n",
    "plt.show(plt.plot(range(len(epsa_red)),epsa_red))\n",
    "plt.ylabel(\"Calculated Strain\",**axis_font),plt.xlabel(\"Iteration number\",**axis_font)\n",
    "plt.close"
   ]
  },
  {
   "cell_type": "markdown",
   "metadata": {},
   "source": [
    "### Volume vs Iteration number"
   ]
  },
  {
   "cell_type": "code",
   "execution_count": null,
   "metadata": {
    "collapsed": false
   },
   "outputs": [],
   "source": [
    "#Volume vs Iteration number \n",
    "plt.figure(6)\n",
    "axis_font = {'fontname':'Constantia', 'size':'14'}\n",
    "plt.show(plt.plot(range(len(V_red)),V_red))\n",
    "plt.ylabel(\"Volume\",**axis_font),plt.xlabel(\"Iteration number\",**axis_font)\n",
    "plt.close"
   ]
  },
  {
   "cell_type": "markdown",
   "metadata": {},
   "source": [
    "### Barlow's Stress vs Iteration number"
   ]
  },
  {
   "cell_type": "code",
   "execution_count": null,
   "metadata": {
    "collapsed": false
   },
   "outputs": [],
   "source": [
    "#Barlow's Stress vs Iteration number \n",
    "plt.figure(7)\n",
    "axis_font = {'fontname':'Constantia', 'size':'14'}\n",
    "plt.show(plt.plot(range(len(sig_b_red)),sig_b_red))\n",
    "plt.ylabel(\"Barlow's Stress\",**axis_font),plt.xlabel(\"Iteration number\",**axis_font)\n",
    "plt.close"
   ]
  },
  {
   "cell_type": "code",
   "execution_count": null,
   "metadata": {
    "collapsed": true
   },
   "outputs": [],
   "source": []
  }
 ],
 "metadata": {
  "anaconda-cloud": {},
  "kernelspec": {
   "display_name": "Python [conda root]",
   "language": "python",
   "name": "conda-root-py"
  },
  "language_info": {
   "codemirror_mode": {
    "name": "ipython",
    "version": 3
   },
   "file_extension": ".py",
   "mimetype": "text/x-python",
   "name": "python",
   "nbconvert_exporter": "python",
   "pygments_lexer": "ipython3",
   "version": "3.5.2"
  }
 },
 "nbformat": 4,
 "nbformat_minor": 1
}
