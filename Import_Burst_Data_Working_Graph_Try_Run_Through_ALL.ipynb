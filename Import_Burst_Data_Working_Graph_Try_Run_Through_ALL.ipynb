{
 "cells": [
  {
   "cell_type": "markdown",
   "metadata": {},
   "source": [
    "# Analyse Burst Test Data"
   ]
  },
  {
   "cell_type": "markdown",
   "metadata": {},
   "source": [
    "### Import Libraries"
   ]
  },
  {
   "cell_type": "code",
   "execution_count": 6,
   "metadata": {
    "collapsed": true
   },
   "outputs": [],
   "source": [
    "import numpy as np\n",
    "import pandas as pd\n",
    "import matplotlib.pyplot as plt"
   ]
  },
  {
   "cell_type": "markdown",
   "metadata": {},
   "source": [
    "### Import Data"
   ]
  },
  {
   "cell_type": "code",
   "execution_count": 7,
   "metadata": {
    "collapsed": false
   },
   "outputs": [],
   "source": [
    "file=open('C://Users//Inance//Documents//Thesis//Burst_Testing_Data_Analysis//Day_1_Testing//Burst//Changed_TXT//Sample_13_burst_TXT.txt')\n",
    "lst = [] \n",
    "for line in file:\n",
    "    lst.append([ float(x) for x in line.split()])\n",
    "time = np.array([ x[0] for x in lst]) #first row in file and make array\n",
    "void = np.array([ x[1] for x in lst]) #second row in file and make array\n",
    "pressure0 =np.array([ x[2] for x in lst]) #third row in file and make array\n",
    "pressure=pressure0*-1 #change the sign of the imported pressure data\n",
    "#print(' time = ',time,'\\n\\n','void = ',void,'\\n\\n\\n','pressure = ',pressure)"
   ]
  },
  {
   "cell_type": "markdown",
   "metadata": {},
   "source": [
    "### Create Graph"
   ]
  },
  {
   "cell_type": "code",
   "execution_count": 8,
   "metadata": {
    "collapsed": false
   },
   "outputs": [
    {
     "data": {
      "image/png": "[encoded data removed]",
      "text/plain": [
       "<matplotlib.figure.Figure at 0x1e2561a3ef0>"
      ]
     },
     "metadata": {},
     "output_type": "display_data"
    }
   ],
   "source": [
    "pressure_max = 2 #edit y-axis max\n",
    "fig, ax = plt.subplots(1)\n",
    "ax.scatter(time, np.minimum(pressure, pressure_max)) #create a scatter plot\n",
    "axis_font = {'fontname':'Constantia', 'size':'12'} #customize graph\n",
    "plt.ylabel(\"Pressure\",**axis_font),plt.xlabel(\"Time\",**axis_font) #name axes\n",
    "plt.show() #show graph"
   ]
  },
  {
   "cell_type": "code",
   "execution_count": null,
   "metadata": {
    "collapsed": true
   },
   "outputs": [],
   "source": []
  }
 ],
 "metadata": {
  "kernelspec": {
   "display_name": "Python [default]",
   "language": "python",
   "name": "python3"
  },
  "language_info": {
   "codemirror_mode": {
    "name": "ipython",
    "version": 3
   },
   "file_extension": ".py",
   "mimetype": "text/x-python",
   "name": "python",
   "nbconvert_exporter": "python",
   "pygments_lexer": "ipython3",
   "version": "3.5.2"
  }
 },
 "nbformat": 4,
 "nbformat_minor": 1
}
