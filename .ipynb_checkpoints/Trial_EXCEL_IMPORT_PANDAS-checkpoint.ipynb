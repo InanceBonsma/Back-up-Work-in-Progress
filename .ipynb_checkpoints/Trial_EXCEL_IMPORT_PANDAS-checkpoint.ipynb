{
 "cells": [
  {
   "cell_type": "code",
   "execution_count": 1,
   "metadata": {
    "collapsed": false
   },
   "outputs": [
    {
     "data": {
      "text/html": [
       "<div>\n",
       "<table border=\"1\" class=\"dataframe\">\n",
       "  <thead>\n",
       "    <tr style=\"text-align: right;\">\n",
       "      <th></th>\n",
       "      <th>Names</th>\n",
       "      <th>Births</th>\n",
       "    </tr>\n",
       "  </thead>\n",
       "  <tbody>\n",
       "    <tr>\n",
       "      <th>0</th>\n",
       "      <td>1,0</td>\n",
       "      <td>0,3</td>\n",
       "    </tr>\n",
       "    <tr>\n",
       "      <th>1</th>\n",
       "      <td>2,0</td>\n",
       "      <td>0,4</td>\n",
       "    </tr>\n",
       "    <tr>\n",
       "      <th>2</th>\n",
       "      <td>3,0</td>\n",
       "      <td>0,2</td>\n",
       "    </tr>\n",
       "    <tr>\n",
       "      <th>3</th>\n",
       "      <td>4,0</td>\n",
       "      <td>0,5</td>\n",
       "    </tr>\n",
       "    <tr>\n",
       "      <th>4</th>\n",
       "      <td>5,0</td>\n",
       "      <td>0,7</td>\n",
       "    </tr>\n",
       "    <tr>\n",
       "      <th>5</th>\n",
       "      <td>6,0</td>\n",
       "      <td>0,7</td>\n",
       "    </tr>\n",
       "    <tr>\n",
       "      <th>6</th>\n",
       "      <td>7,0</td>\n",
       "      <td>0,8</td>\n",
       "    </tr>\n",
       "    <tr>\n",
       "      <th>7</th>\n",
       "      <td>8,0</td>\n",
       "      <td>1,0</td>\n",
       "    </tr>\n",
       "    <tr>\n",
       "      <th>8</th>\n",
       "      <td>9,0</td>\n",
       "      <td>1,0</td>\n",
       "    </tr>\n",
       "    <tr>\n",
       "      <th>9</th>\n",
       "      <td>10,0</td>\n",
       "      <td>1,1</td>\n",
       "    </tr>\n",
       "    <tr>\n",
       "      <th>10</th>\n",
       "      <td>11,0</td>\n",
       "      <td>1,3</td>\n",
       "    </tr>\n",
       "    <tr>\n",
       "      <th>11</th>\n",
       "      <td>12,0</td>\n",
       "      <td>1,4</td>\n",
       "    </tr>\n",
       "    <tr>\n",
       "      <th>12</th>\n",
       "      <td>13,0</td>\n",
       "      <td>1,6</td>\n",
       "    </tr>\n",
       "    <tr>\n",
       "      <th>13</th>\n",
       "      <td>14,0</td>\n",
       "      <td>1,8</td>\n",
       "    </tr>\n",
       "    <tr>\n",
       "      <th>14</th>\n",
       "      <td>15,0</td>\n",
       "      <td>1,8</td>\n",
       "    </tr>\n",
       "    <tr>\n",
       "      <th>15</th>\n",
       "      <td>16,0</td>\n",
       "      <td>1,9</td>\n",
       "    </tr>\n",
       "    <tr>\n",
       "      <th>16</th>\n",
       "      <td>17,0</td>\n",
       "      <td>1,9</td>\n",
       "    </tr>\n",
       "    <tr>\n",
       "      <th>17</th>\n",
       "      <td>18,0</td>\n",
       "      <td>2,1</td>\n",
       "    </tr>\n",
       "    <tr>\n",
       "      <th>18</th>\n",
       "      <td>19,0</td>\n",
       "      <td>2,3</td>\n",
       "    </tr>\n",
       "    <tr>\n",
       "      <th>19</th>\n",
       "      <td>20,0</td>\n",
       "      <td>2,5</td>\n",
       "    </tr>\n",
       "  </tbody>\n",
       "</table>\n",
       "</div>"
      ],
      "text/plain": [
       "   Names Births\n",
       "0    1,0    0,3\n",
       "1    2,0    0,4\n",
       "2    3,0    0,2\n",
       "3    4,0    0,5\n",
       "4    5,0    0,7\n",
       "5    6,0    0,7\n",
       "6    7,0    0,8\n",
       "7    8,0    1,0\n",
       "8    9,0    1,0\n",
       "9   10,0    1,1\n",
       "10  11,0    1,3\n",
       "11  12,0    1,4\n",
       "12  13,0    1,6\n",
       "13  14,0    1,8\n",
       "14  15,0    1,8\n",
       "15  16,0    1,9\n",
       "16  17,0    1,9\n",
       "17  18,0    2,1\n",
       "18  19,0    2,3\n",
       "19  20,0    2,5"
      ]
     },
     "execution_count": 1,
     "metadata": {},
     "output_type": "execute_result"
    }
   ],
   "source": [
    "import pandas as pd\n",
    "import matplotlib.pyplot as plt\n",
    "import xlrd\n",
    "\n",
    "location = (r'C:\\\\Users\\\\Inance\\\\Documents\\\\Tester\\\\e.csv')\n",
    "df = pd.read_csv(location, delimiter=';',names=['Names','Births'])\n",
    "df"
   ]
  },
  {
   "cell_type": "code",
   "execution_count": 2,
   "metadata": {
    "collapsed": false
   },
   "outputs": [],
   "source": [
    "import pandas as pd\n",
    "import numpy as np\n",
    "import matplotlib.pyplot as plt\n",
    "\n",
    "#path=pd.read_csv(r'C:\\\\Users\\\\Inance\\\\Documents\\\\Tester',header=None,names=['Time','Load'])\n",
    "\n",
    "data = pd.read_excel(r'C:\\\\Users\\\\Inance\\\\Documents\\\\Thesis\\\\Burst_Testing_Data_Analysis\\\\Analysed Data\\\\Crash Burst\\\\Summary_Data_Crush_Burst.xlsx', sheetname='Overall_Burst_Data',names=['Time','Load','a','b','c','d','e','Time1','Load1','a1','b1','c1','d1','e1','Time2','Load2','a2','b2','c2','d2','e2','Time3','Load3','a3','b3','c3','d3','e3','Time4','Load4'])\n"
   ]
  },
  {
   "cell_type": "code",
   "execution_count": 13,
   "metadata": {
    "collapsed": false
   },
   "outputs": [
    {
     "data": {
      "text/plain": [
       "<matplotlib.axes._subplots.AxesSubplot at 0x19c9aeb4fd0>"
      ]
     },
     "execution_count": 13,
     "metadata": {},
     "output_type": "execute_result"
    }
   ],
   "source": [
    "# The inital set of baby names and bith rates\n",
    "names = ['Bob','Jessica','Mary','John','Mel']\n",
    "births = [968, 155, 77, 578, 973]\n",
    "BabyDataSet = list(zip(names,births))\n",
    "df = pd.DataFrame(data = BabyDataSet, columns=['Names', 'Births'])\n",
    "df\n",
    "\n",
    "# Method 2:\n",
    "df['Births'].max()\n",
    "\n",
    "\n",
    "# Create graph\n",
    "df['Births'].plot()\n"
   ]
  },
  {
   "cell_type": "code",
   "execution_count": null,
   "metadata": {
    "collapsed": true
   },
   "outputs": [],
   "source": [
    "df['Births'].plot"
   ]
  },
  {
   "cell_type": "code",
   "execution_count": 4,
   "metadata": {
    "collapsed": false
   },
   "outputs": [
    {
     "data": {
      "text/html": [
       "<div>\n",
       "<table border=\"1\" class=\"dataframe\">\n",
       "  <thead>\n",
       "    <tr style=\"text-align: right;\">\n",
       "      <th></th>\n",
       "      <th>Names</th>\n",
       "      <th>Births</th>\n",
       "    </tr>\n",
       "  </thead>\n",
       "  <tbody>\n",
       "    <tr>\n",
       "      <th>4</th>\n",
       "      <td>Mel</td>\n",
       "      <td>973</td>\n",
       "    </tr>\n",
       "  </tbody>\n",
       "</table>\n",
       "</div>"
      ],
      "text/plain": [
       "  Names  Births\n",
       "4   Mel     973"
      ]
     },
     "execution_count": 4,
     "metadata": {},
     "output_type": "execute_result"
    }
   ],
   "source": [
    "# Maximum value in the data set\n",
    "MaxValue = df['Births'].max()\n",
    "\n",
    "# Name associated with the maximum value\n",
    "MaxName = df['Names'][df['Births'] == df['Births'].max()].values\n",
    "\n",
    "# Text to display on graph\n",
    "Text = str(MaxValue) + \" - \" + MaxName\n",
    "\n",
    "# Add text to graph\n",
    "plt.annotate(Text, xy=(1, MaxValue), xytext=(8, 0), \n",
    "                 xycoords=('axes fraction', 'data'), textcoords='offset points')\n",
    "\n",
    "\n",
    "df[df['Births'] == df['Births'].max()]\n",
    "#Sorted.head(1) can also be used"
   ]
  },
  {
   "cell_type": "code",
   "execution_count": 16,
   "metadata": {
    "collapsed": false
   },
   "outputs": [
    {
     "data": {
      "text/plain": [
       "<matplotlib.legend.Legend at 0x19c9b5d0048>"
      ]
     },
     "execution_count": 16,
     "metadata": {},
     "output_type": "execute_result"
    }
   ],
   "source": [
    "\n",
    "import pandas as pd\n",
    "import numpy as np\n",
    "import matplotlib.pyplot as plt\n",
    "df = pd.DataFrame(np.random.randn(1000, 4), index=ts.index,columns=['A', 'B', 'C', 'D'])\n",
    "df = df.cumsum()\n",
    "plt.figure(); df.plot(); plt.legend(loc='best')"
   ]
  },
  {
   "cell_type": "code",
   "execution_count": null,
   "metadata": {
    "collapsed": true
   },
   "outputs": [],
   "source": []
  }
 ],
 "metadata": {
  "kernelspec": {
   "display_name": "Python [default]",
   "language": "python",
   "name": "python3"
  },
  "language_info": {
   "codemirror_mode": {
    "name": "ipython",
    "version": 3
   },
   "file_extension": ".py",
   "mimetype": "text/x-python",
   "name": "python",
   "nbconvert_exporter": "python",
   "pygments_lexer": "ipython3",
   "version": "3.5.2"
  }
 },
 "nbformat": 4,
 "nbformat_minor": 1
}
