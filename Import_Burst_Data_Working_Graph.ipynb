{
 "cells": [
  {
   "cell_type": "markdown",
   "metadata": {},
   "source": [
    "# Analyse Burst Test Data"
   ]
  },
  {
   "cell_type": "markdown",
   "metadata": {},
   "source": [
    "### Import Libraries"
   ]
  },
  {
   "cell_type": "code",
   "execution_count": null,
   "metadata": {
    "collapsed": true
   },
   "outputs": [],
   "source": [
    "import numpy as np\n",
    "import pandas as pd\n",
    "import matplotlib.pyplot as plt"
   ]
  },
  {
   "cell_type": "markdown",
   "metadata": {},
   "source": [
    "### Import Data"
   ]
  },
  {
   "cell_type": "code",
   "execution_count": 17,
   "metadata": {
    "collapsed": false
   },
   "outputs": [],
   "source": [
    "file=open('C://Users//Inance//Documents//Thesis//Burst_Testing_Data_Analysis//Day_1_Testing//Burst//Sample_12_burst_Excel.txt')\n",
    "lst = [] \n",
    "for line in file:\n",
    "    lst.append([ float(x) for x in line.split()])\n",
    "time = np.array([ x[0] for x in lst]) #first row in file and make array\n",
    "void = np.array([ x[1] for x in lst]) #second row in file and make array\n",
    "pressure0 =np.array([ x[2] for x in lst]) #third row in file and make array\n",
    "pressure=pressure0*-1 #change the sign of the imported pressure data\n",
    "#print(' time = ',time,'\\n\\n','void = ',void,'\\n\\n\\n','pressure = ',pressure)"
   ]
  },
  {
   "cell_type": "markdown",
   "metadata": {},
   "source": [
    "### Create Graph"
   ]
  },
  {
   "cell_type": "code",
   "execution_count": 16,
   "metadata": {
    "collapsed": false
   },
   "outputs": [
    {
     "data": {
      "image/png": "[encoded data removed]",
      "text/plain": [
       "<matplotlib.figure.Figure at 0x151695fd1d0>"
      ]
     },
     "metadata": {},
     "output_type": "display_data"
    }
   ],
   "source": [
    "pressure_max = 2 #edit y-axis max\n",
    "fig, ax = plt.subplots(1)\n",
    "ax.scatter(time, np.minimum(pressure, pressure_max)) #create a scatter plot\n",
    "axis_font = {'fontname':'Constantia', 'size':'12'} #customize graph\n",
    "plt.ylabel(\"Pressure\",**axis_font),plt.xlabel(\"Time\",**axis_font) #name axes\n",
    "plt.show() #show graph"
   ]
  },
  {
   "cell_type": "code",
   "execution_count": 12,
   "metadata": {
    "collapsed": false
   },
   "outputs": [
    {
     "name": "stdout",
     "output_type": "stream",
     "text": [
      "    1.0   0.3\n",
      "0     2  0.40\n",
      "1     3  0.20\n",
      "2     4  0.50\n",
      "3     5  0.70\n",
      "4     6  0.70\n",
      "5     7  0.80\n",
      "6     8  0.95\n",
      "7     9  1.00\n",
      "8    10  1.10\n",
      "9    11  1.30\n",
      "10   12  1.40\n",
      "11   13  1.60\n",
      "12   14  1.75\n",
      "13   15  1.80\n",
      "14   16  1.88\n",
      "15   17  1.90\n",
      "16   18  2.10\n",
      "17   19  2.30\n",
      "18   20  2.50\n"
     ]
    },
    {
     "data": {
      "text/html": [
       "<div>\n",
       "<table border=\"1\" class=\"dataframe\">\n",
       "  <thead>\n",
       "    <tr style=\"text-align: right;\">\n",
       "      <th></th>\n",
       "      <th>1.0</th>\n",
       "      <th>0.3</th>\n",
       "    </tr>\n",
       "  </thead>\n",
       "  <tbody>\n",
       "    <tr>\n",
       "      <th>0</th>\n",
       "      <td>2</td>\n",
       "      <td>0.40</td>\n",
       "    </tr>\n",
       "    <tr>\n",
       "      <th>1</th>\n",
       "      <td>3</td>\n",
       "      <td>0.20</td>\n",
       "    </tr>\n",
       "    <tr>\n",
       "      <th>2</th>\n",
       "      <td>4</td>\n",
       "      <td>0.50</td>\n",
       "    </tr>\n",
       "    <tr>\n",
       "      <th>3</th>\n",
       "      <td>5</td>\n",
       "      <td>0.70</td>\n",
       "    </tr>\n",
       "    <tr>\n",
       "      <th>4</th>\n",
       "      <td>6</td>\n",
       "      <td>0.70</td>\n",
       "    </tr>\n",
       "    <tr>\n",
       "      <th>5</th>\n",
       "      <td>7</td>\n",
       "      <td>0.80</td>\n",
       "    </tr>\n",
       "    <tr>\n",
       "      <th>6</th>\n",
       "      <td>8</td>\n",
       "      <td>0.95</td>\n",
       "    </tr>\n",
       "    <tr>\n",
       "      <th>7</th>\n",
       "      <td>9</td>\n",
       "      <td>1.00</td>\n",
       "    </tr>\n",
       "    <tr>\n",
       "      <th>8</th>\n",
       "      <td>10</td>\n",
       "      <td>1.10</td>\n",
       "    </tr>\n",
       "    <tr>\n",
       "      <th>9</th>\n",
       "      <td>11</td>\n",
       "      <td>1.30</td>\n",
       "    </tr>\n",
       "    <tr>\n",
       "      <th>10</th>\n",
       "      <td>12</td>\n",
       "      <td>1.40</td>\n",
       "    </tr>\n",
       "    <tr>\n",
       "      <th>11</th>\n",
       "      <td>13</td>\n",
       "      <td>1.60</td>\n",
       "    </tr>\n",
       "    <tr>\n",
       "      <th>12</th>\n",
       "      <td>14</td>\n",
       "      <td>1.75</td>\n",
       "    </tr>\n",
       "    <tr>\n",
       "      <th>13</th>\n",
       "      <td>15</td>\n",
       "      <td>1.80</td>\n",
       "    </tr>\n",
       "    <tr>\n",
       "      <th>14</th>\n",
       "      <td>16</td>\n",
       "      <td>1.88</td>\n",
       "    </tr>\n",
       "    <tr>\n",
       "      <th>15</th>\n",
       "      <td>17</td>\n",
       "      <td>1.90</td>\n",
       "    </tr>\n",
       "    <tr>\n",
       "      <th>16</th>\n",
       "      <td>18</td>\n",
       "      <td>2.10</td>\n",
       "    </tr>\n",
       "    <tr>\n",
       "      <th>17</th>\n",
       "      <td>19</td>\n",
       "      <td>2.30</td>\n",
       "    </tr>\n",
       "    <tr>\n",
       "      <th>18</th>\n",
       "      <td>20</td>\n",
       "      <td>2.50</td>\n",
       "    </tr>\n",
       "  </tbody>\n",
       "</table>\n",
       "</div>"
      ],
      "text/plain": [
       "    1.0   0.3\n",
       "0     2  0.40\n",
       "1     3  0.20\n",
       "2     4  0.50\n",
       "3     5  0.70\n",
       "4     6  0.70\n",
       "5     7  0.80\n",
       "6     8  0.95\n",
       "7     9  1.00\n",
       "8    10  1.10\n",
       "9    11  1.30\n",
       "10   12  1.40\n",
       "11   13  1.60\n",
       "12   14  1.75\n",
       "13   15  1.80\n",
       "14   16  1.88\n",
       "15   17  1.90\n",
       "16   18  2.10\n",
       "17   19  2.30\n",
       "18   20  2.50"
      ]
     },
     "execution_count": 12,
     "metadata": {},
     "output_type": "execute_result"
    }
   ],
   "source": [
    "import pandas as pd\n",
    "import glob\n",
    "\n",
    "z = pd.read_excel('C:\\\\Users\\\\Inance\\\\Documents\\\\Tester\\\\e.xlsx')\n",
    "print(z)\n",
    "\n",
    "z.rename(columns={'number': 'test'})\n"
   ]
  },
  {
   "cell_type": "code",
   "execution_count": 28,
   "metadata": {
    "collapsed": false
   },
   "outputs": [
    {
     "name": "stdout",
     "output_type": "stream",
     "text": [
      "['C:\\\\\\\\Users\\\\\\\\Inance\\\\\\\\Documents\\\\\\\\Tester\\\\e.csv', 'C:\\\\\\\\Users\\\\\\\\Inance\\\\\\\\Documents\\\\\\\\Tester\\\\f.csv'] \n",
      "\n",
      "     1;0     3\n",
      "0    2;0   4.0\n",
      "1    3;0   2.0\n",
      "2    4;0   5.0\n",
      "3    5;0   7.0\n",
      "4    6;0   7.0\n",
      "5    7;0   8.0\n",
      "6    8;0  95.0\n",
      "7    9;1   NaN\n",
      "8   10;1   1.0\n",
      "9   11;1   3.0\n",
      "10  12;1   4.0\n",
      "11  13;1   6.0\n",
      "12  14;1  75.0\n",
      "13  15;1   8.0\n",
      "14  16;1  88.0\n",
      "15  17;1   9.0\n",
      "16  18;2   1.0\n",
      "17  19;2   3.0\n",
      "18  20;2   5.0\n",
      "0    2;0   4.0\n",
      "1    3;0   2.0\n",
      "2    4;0   5.0\n",
      "3    5;0   7.0\n",
      "4    6;0   7.0\n",
      "5    7;0   8.0\n",
      "6    8;0  95.0\n",
      "7    9;1   NaN\n",
      "8   10;1   1.0\n",
      "9   11;1   3.0\n",
      "10  12;1   4.0\n",
      "11  13;1   6.0\n",
      "12  14;1  75.0\n",
      "13  15;1   8.0\n",
      "14  16;1  88.0\n",
      "15  17;1   9.0\n",
      "16  18;2   1.0\n",
      "17  19;2   3.0\n",
      "18  20;2   5.0\n"
     ]
    }
   ],
   "source": [
    "path =(r'C:\\\\Users\\\\Inance\\\\Documents\\\\Tester') # use your path\n",
    "allFiles = glob.glob(path + \"/*.csv\")\n",
    "print(allFiles, '\\n')\n",
    "frame = pd.DataFrame()\n",
    "list_ = []\n",
    "for file_ in allFiles:\n",
    "    df = pd.read_csv(file_,index_col=None, header=0)\n",
    "    list_.append(df)\n",
    "frame = pd.concat(list_)\n",
    "print(frame)"
   ]
  },
  {
   "cell_type": "code",
   "execution_count": null,
   "metadata": {
    "collapsed": true
   },
   "outputs": [],
   "source": [
    "fig = plt.figure()\n",
    "\n",
    "ax1 = fig.add_subplot(111)\n",
    "\n",
    "ax1.set_title(\"Plot title...\")    \n",
    "ax1.set_xlabel('your x label..')\n",
    "ax1.set_ylabel('your y label...')\n",
    "\n",
    "ax1.plot(x,y, c='r', label='the data')\n",
    "\n",
    "leg = ax1.legend()\n",
    "\n",
    "plt.show()\n"
   ]
  },
  {
   "cell_type": "code",
   "execution_count": null,
   "metadata": {
    "collapsed": true
   },
   "outputs": [],
   "source": [
    "import pandas as pd\n",
    "import matplotlib.pyplot as plt\n",
    "import xlrd\n",
    "\n",
    "file = r'C:\\dickster\\data.xlsx'\n",
    "list_dfs = []\n",
    "\n",
    "xls = xlrd.open_workbook(file, on_demand=True)\n",
    "for sheet_name in xls.sheet_names():\n",
    "    df = pd.read_excel(file,sheet_name)\n",
    "    df['time'] = sheet_name\n",
    "    list_dfs.append(df)\n",
    "\n",
    "dfs = pd.concat(list_dfs,axis=0)\n",
    "dfs = dfs.sort(['time','code'])\n",
    "\n",
    "   code  price  inventory    time\n",
    "0  5001      8         60  201508\n",
    "1  5002     10         51  201508\n",
    "2  5003      6         61  201508\n",
    "0  5001      5         92  201509\n",
    "1  5002      7         50  201509\n",
    "2  5003      6         65  201509\n",
    "And now the plot of 5001: price v inventory:\n",
    "dfs[dfs['code']==5001].plot(x='price',y='inventory',kind='scatter')\n",
    "plt.show()"
   ]
  }
 ],
 "metadata": {
  "kernelspec": {
   "display_name": "Python [default]",
   "language": "python",
   "name": "python3"
  },
  "language_info": {
   "codemirror_mode": {
    "name": "ipython",
    "version": 3
   },
   "file_extension": ".py",
   "mimetype": "text/x-python",
   "name": "python",
   "nbconvert_exporter": "python",
   "pygments_lexer": "ipython3",
   "version": "3.5.2"
  }
 },
 "nbformat": 4,
 "nbformat_minor": 1
}
